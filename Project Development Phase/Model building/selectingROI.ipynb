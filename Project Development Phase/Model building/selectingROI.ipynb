{
 "cells": [
  {
   "cell_type": "code",
   "execution_count": 2,
   "metadata": {},
   "outputs": [],
   "source": [
    "import cv2\n",
    "import pickle\n",
    "import cvzone\n",
    "import numpy"
   ]
  },
  {
   "cell_type": "code",
   "execution_count": 3,
   "metadata": {},
   "outputs": [],
   "source": [
    "width , height = 107 , 48\n",
    "\n",
    "try:\n",
    "    with open('parkingSlotPosition', 'rb') as f:\n",
    "        posList = pickle.load(f)\n",
    "except FileNotFoundError:\n",
    "    posList= [] \n",
    "    "
   ]
  },
  {
   "cell_type": "code",
   "execution_count": 4,
   "metadata": {},
   "outputs": [],
   "source": [
    "def mouseClick(events, x, y, flags, params):\n",
    "\n",
    "    if events == cv2.EVENT_LBUTTONDOWN:\n",
    "        posList.append((x, y))\n",
    "\n",
    "    if events == cv2.EVENT_RBUTTONDOWN:\n",
    "        for i, pos in enumerate(posList):\n",
    "            x1, y1 = pos\n",
    "            if x1 < x < x1 + width and y1 < y < y1 + height:\n",
    "                posList.pop(i)\n",
    "                break\n",
    "\n",
    "\n",
    "with open('parkingSlotPosition', 'wb') as f:\n",
    "    pickle.dump(posList, f)"
   ]
  },
  {
   "cell_type": "code",
   "execution_count": 6,
   "metadata": {},
   "outputs": [
    {
     "name": "stdout",
     "output_type": "stream",
     "text": [
      "loaded position from file.\n",
      "loaded position from file.\n"
     ]
    }
   ],
   "source": [
    "while True:\n",
    "    img = cv2.imread(r'C:/Users/sonudr/.vscode/wrokspacerrr/Data/carParkImg.png')\n",
    "    for pos in posList:\n",
    "        cv2.rectangle(img, pos, (pos[0]+ width, pos[1]+ height), (255,255,255), 2)\n",
    "    cv2.imshow(\"Image\", img)\n",
    "    cv2.setMouseCallback(\"Image\", mouseClick)\n",
    "\n",
    "    key = cv2.waitKey(1)\n",
    "    if key == ord('q'):\n",
    "        break\n",
    "    elif key == ord('s'):\n",
    "        with open('parkingSlotPosition', 'wb') as f:\n",
    "            pickle.dump(posList, f)\n",
    "        print(\"saved position to file.\")\n",
    "    elif key == ord('1'):\n",
    "        try:\n",
    "            with open('parkingSlotPosition', 'rb') as f:\n",
    "                posList = pickle.load(f)\n",
    "            print(\"loaded position from file.\")\n",
    "        except FileNotFoundError:\n",
    "            print(\"NO saved position found. \")\n",
    "\n",
    "cv2.destroyAllWindows()"
   ]
  },
  {
   "cell_type": "code",
   "execution_count": null,
   "metadata": {},
   "outputs": [],
   "source": []
  }
 ],
 "metadata": {
  "kernelspec": {
   "display_name": "Python 3.11.0 64-bit",
   "language": "python",
   "name": "python3"
  },
  "language_info": {
   "codemirror_mode": {
    "name": "ipython",
    "version": 3
   },
   "file_extension": ".py",
   "mimetype": "text/x-python",
   "name": "python",
   "nbconvert_exporter": "python",
   "pygments_lexer": "ipython3",
   "version": "3.11.0"
  },
  "orig_nbformat": 4,
  "vscode": {
   "interpreter": {
    "hash": "c261aea317cc0286b3b3261fbba9abdec21eaa57589985bb7a274bf54d6cc0a7"
   }
  }
 },
 "nbformat": 4,
 "nbformat_minor": 2
}
