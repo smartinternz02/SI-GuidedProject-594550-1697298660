{
 "cells": [
  {
   "cell_type": "code",
   "execution_count": 1,
   "metadata": {},
   "outputs": [],
   "source": [
    "import cv2\n",
    "import numpy as np\n",
    "import os\n",
    "from flask import Flask,render_template,request\n",
    "\n",
    "\n"
   ]
  },
  {
   "cell_type": "code",
   "execution_count": 6,
   "metadata": {},
   "outputs": [
    {
     "ename": "SystemExit",
     "evalue": "1",
     "output_type": "error",
     "traceback": [
      "\u001b[1;31m---------------------------------------------------------------------------\u001b[0m",
      "\u001b[1;31mSystemExit\u001b[0m                                Traceback (most recent call last)",
      "Cell \u001b[1;32mIn[5], line 88\u001b[0m\n\u001b[0;32m     85\u001b[0m     \u001b[39mreturn\u001b[39;00m render_template(\u001b[39m'\u001b[39m\u001b[39mresult.html\u001b[39m\u001b[39m'\u001b[39m, video_path\u001b[39m=\u001b[39mvideo_path,image_path\u001b[39m=\u001b[39mimage_path,posList\u001b[39m=\u001b[39mposList)\n\u001b[0;32m     87\u001b[0m \u001b[39mif\u001b[39;00m \u001b[39m__name__\u001b[39m \u001b[39m==\u001b[39m \u001b[39m'\u001b[39m\u001b[39m__main__\u001b[39m\u001b[39m'\u001b[39m:\n\u001b[1;32m---> 88\u001b[0m     app\u001b[39m.\u001b[39;49mrun(debug\u001b[39m=\u001b[39;49m\u001b[39mTrue\u001b[39;49;00m)\n",
      "File \u001b[1;32mc:\\Python311\\Lib\\site-packages\\flask\\app.py:1191\u001b[0m, in \u001b[0;36mFlask.run\u001b[1;34m(self, host, port, debug, load_dotenv, **options)\u001b[0m\n\u001b[0;32m   1188\u001b[0m \u001b[39mfrom\u001b[39;00m \u001b[39mwerkzeug\u001b[39;00m\u001b[39m.\u001b[39;00m\u001b[39mserving\u001b[39;00m \u001b[39mimport\u001b[39;00m run_simple\n\u001b[0;32m   1190\u001b[0m \u001b[39mtry\u001b[39;00m:\n\u001b[1;32m-> 1191\u001b[0m     run_simple(t\u001b[39m.\u001b[39;49mcast(\u001b[39mstr\u001b[39;49m, host), port, \u001b[39mself\u001b[39;49m, \u001b[39m*\u001b[39;49m\u001b[39m*\u001b[39;49moptions)\n\u001b[0;32m   1192\u001b[0m \u001b[39mfinally\u001b[39;00m:\n\u001b[0;32m   1193\u001b[0m     \u001b[39m# reset the first request information if the development server\u001b[39;00m\n\u001b[0;32m   1194\u001b[0m     \u001b[39m# reset normally.  This makes it possible to restart the server\u001b[39;00m\n\u001b[0;32m   1195\u001b[0m     \u001b[39m# without reloader and that stuff from an interactive shell.\u001b[39;00m\n\u001b[0;32m   1196\u001b[0m     \u001b[39mself\u001b[39m\u001b[39m.\u001b[39m_got_first_request \u001b[39m=\u001b[39m \u001b[39mFalse\u001b[39;00m\n",
      "File \u001b[1;32mc:\\Python311\\Lib\\site-packages\\werkzeug\\serving.py:1059\u001b[0m, in \u001b[0;36mrun_simple\u001b[1;34m(hostname, port, application, use_reloader, use_debugger, use_evalex, extra_files, exclude_patterns, reloader_interval, reloader_type, threaded, processes, request_handler, static_files, passthrough_errors, ssl_context)\u001b[0m\n\u001b[0;32m   1056\u001b[0m \u001b[39mfrom\u001b[39;00m \u001b[39m.\u001b[39;00m\u001b[39m_reloader\u001b[39;00m \u001b[39mimport\u001b[39;00m run_with_reloader\n\u001b[0;32m   1058\u001b[0m \u001b[39mtry\u001b[39;00m:\n\u001b[1;32m-> 1059\u001b[0m     run_with_reloader(\n\u001b[0;32m   1060\u001b[0m         srv\u001b[39m.\u001b[39;49mserve_forever,\n\u001b[0;32m   1061\u001b[0m         extra_files\u001b[39m=\u001b[39;49mextra_files,\n\u001b[0;32m   1062\u001b[0m         exclude_patterns\u001b[39m=\u001b[39;49mexclude_patterns,\n\u001b[0;32m   1063\u001b[0m         interval\u001b[39m=\u001b[39;49mreloader_interval,\n\u001b[0;32m   1064\u001b[0m         reloader_type\u001b[39m=\u001b[39;49mreloader_type,\n\u001b[0;32m   1065\u001b[0m     )\n\u001b[0;32m   1066\u001b[0m \u001b[39mfinally\u001b[39;00m:\n\u001b[0;32m   1067\u001b[0m     srv\u001b[39m.\u001b[39mserver_close()\n",
      "File \u001b[1;32mc:\\Python311\\Lib\\site-packages\\werkzeug\\_reloader.py:444\u001b[0m, in \u001b[0;36mrun_with_reloader\u001b[1;34m(main_func, extra_files, exclude_patterns, interval, reloader_type)\u001b[0m\n\u001b[0;32m    442\u001b[0m             reloader\u001b[39m.\u001b[39mrun()\n\u001b[0;32m    443\u001b[0m     \u001b[39melse\u001b[39;00m:\n\u001b[1;32m--> 444\u001b[0m         sys\u001b[39m.\u001b[39;49mexit(reloader\u001b[39m.\u001b[39;49mrestart_with_reloader())\n\u001b[0;32m    445\u001b[0m \u001b[39mexcept\u001b[39;00m \u001b[39mKeyboardInterrupt\u001b[39;00m:\n\u001b[0;32m    446\u001b[0m     \u001b[39mpass\u001b[39;00m\n",
      "\u001b[1;31mSystemExit\u001b[0m: 1"
     ]
    },
    {
     "name": "stdout",
     "output_type": "stream",
     "text": [
      " * Serving Flask app '__main__'\n",
      " * Debug mode: on\n"
     ]
    },
    {
     "name": "stderr",
     "output_type": "stream",
     "text": [
      "WARNING: This is a development server. Do not use it in a production deployment. Use a production WSGI server instead.\n",
      " * Running on http://127.0.0.1:5000\n",
      "Press CTRL+C to quit\n",
      " * Restarting with stat\n"
     ]
    },
    {
     "ename": "SystemExit",
     "evalue": "1",
     "output_type": "error",
     "traceback": [
      "An exception has occurred, use %tb to see the full traceback.\n",
      "\u001b[1;31mSystemExit\u001b[0m\u001b[1;31m:\u001b[0m 1\n"
     ]
    },
    {
     "name": "stderr",
     "output_type": "stream",
     "text": [
      "C:\\Users\\sonudr\\AppData\\Roaming\\Python\\Python311\\site-packages\\IPython\\core\\interactiveshell.py:3441: UserWarning: To exit: use 'exit', 'quit', or Ctrl-D.\n",
      "  warn(\"To exit: use 'exit', 'quit', or Ctrl-D.\", stacklevel=1)\n"
     ]
    }
   ],
   "source": [
    "%tb\n",
    "app = Flask(__name__)\n",
    "\n",
    "\n",
    "@app.route('/')\n",
    "def index():\n",
    "    return render_template('index.html')\n",
    "\n",
    "\n",
    "@app.route('/process',methods=['POST'])\n",
    "def process():\n",
    "    video_file = request.files['video']\n",
    "    image_file = request.files['image']\n",
    "\n",
    "\n",
    "    video_path = os.path.join('Flask/uploads', video_file.filename)\n",
    "    image_path = os.path.join('Flask/uploads', image_file.filename)\n",
    "\n",
    "    posList = np.load('Flask/uploads/parkingSlotPosition.npy')\n",
    "\n",
    "\n",
    "    cap = cv2.VideoCapture(video_path)\n",
    "    height = 0 \n",
    "    width = 0\n",
    "\n",
    "    while True:\n",
    "        if cap.get(cv2.CAP_PROP_POS_FRAMES)==cap.get(cv2.CAP_PROP_FRAME_COUNT):\n",
    "            cap.set(cv2.CAP_PROP_POS_FRAMES, 0)\n",
    "        ret, frame = cap.read()\n",
    "\n",
    "\n",
    "        if not ret:\n",
    "            break\n",
    "\n",
    "        grey = cv2.cvtColor(frame, cv2.COLOR_BGR2GRAY)\n",
    "\n",
    "\n",
    "        blurred = cv2.GaussianBlur(grey, (3,3), 0)\n",
    "\n",
    "\n",
    "        threshold = cv2.adaptiveThreshold(blurred, 255, cv2.ADAPTIVE_THRESH_GAUSSIAN_C, cv2.THRESH_BINARY_INV, 25, 16)\n",
    "\n",
    "\n",
    "        median = cv2.medianBlur(threshold, 5)\n",
    "\n",
    "\n",
    "        kernel = np.ones((3,3), np.uint8)\n",
    "        dilated = cv2.dilate(median, kernel,iterations=1)\n",
    "\n",
    "        imgOverlay = frame.copy()\n",
    "\n",
    "\n",
    "        freeSlots =[]\n",
    "        freeSlotPosition = []\n",
    "\n",
    "\n",
    "        for i, pos in enumerate(posList):\n",
    "            x, y = pos\n",
    "            imgCrop = dilated[y:y + height, x:x +width ]\n",
    "            count= cv2.countNonZero(imgCrop)\n",
    "            if count < 900:\n",
    "                color = (0,255, 0)\n",
    "                thickness = 2\n",
    "                freeSlots.append(i +1)\n",
    "                freeSlotPosition.append(pos)\n",
    "            else:\n",
    "                color = (0,0, 255)\n",
    "                thickness = 2\n",
    "            cv2.rectangle(imgOverlay, pos,(pos[0]+ width,pos[1] + height),color,thickness)\n",
    "            cv2.putText (imgOverlay, str(i+1),(x, y - 10), cv2.FONT_HERSHEY_SIMPLEX, 0.7, (255,255,255), thickness,cv2.LINE_AA)\n",
    "\n",
    "        cv2.putText(imgOverlay, f'Free:{len(freeSlots)}/ {len(posList)}',(100,50), cv2.FONT_HERSHEY_SIMPLEX,1,(0,255,0),2, cv2.LINE_AA)\n",
    "\n",
    "        for slot, pos in zip(freeSlots, freeSlotPosition):\n",
    "            cv2.putText(imgOverlay, f'Slot{slot}',(pos[0],pos[1]- 10),cv2.FONT_HERSHEY_SIMPLEX,0.7,(0,255,0),thickness,cv2.LINE_AA)\n",
    "\n",
    "        cv2.imshow(\"Car Parking Input\", frame)\n",
    "\n",
    "        if cv2.waitKey(1) == ord('q'):\n",
    "            break\n",
    "\n",
    "    cap.release()\n",
    "    cv2.destroyAllWindows()\n",
    "\n",
    "    return render_template('result.html', video_path=video_path,image_path=image_path,posList=posList)\n",
    "\n",
    "if __name__ == '__main__':\n",
    "    app.run(debug=True)\n",
    "  \n",
    "\n"
   ]
  },
  {
   "cell_type": "code",
   "execution_count": 1,
   "metadata": {},
   "outputs": [
    {
     "ename": "ImportError",
     "evalue": "cannot import name 'flask' from 'flask' (c:\\Python311\\Lib\\site-packages\\flask\\__init__.py)",
     "output_type": "error",
     "traceback": [
      "\u001b[1;31m---------------------------------------------------------------------------\u001b[0m",
      "\u001b[1;31mImportError\u001b[0m                               Traceback (most recent call last)",
      "Cell \u001b[1;32mIn[1], line 1\u001b[0m\n\u001b[1;32m----> 1\u001b[0m \u001b[39mfrom\u001b[39;00m \u001b[39mflask\u001b[39;00m \u001b[39mimport\u001b[39;00m flask ,render_template,request,session\n\u001b[0;32m      2\u001b[0m \u001b[39mimport\u001b[39;00m \u001b[39mcv2\u001b[39;00m\n\u001b[0;32m      3\u001b[0m \u001b[39mimport\u001b[39;00m \u001b[39mpickle\u001b[39;00m\n",
      "\u001b[1;31mImportError\u001b[0m: cannot import name 'flask' from 'flask' (c:\\Python311\\Lib\\site-packages\\flask\\__init__.py)"
     ]
    }
   ],
   "source": [
    "from flask import flask ,render_template,request,session\n",
    "import cv2\n",
    "import pickle\n",
    "import cvzone\n",
    "import numpy as np\n",
    "import ibm_db\n"
   ]
  }
 ],
 "metadata": {
  "kernelspec": {
   "display_name": "Python 3.11.0 64-bit",
   "language": "python",
   "name": "python3"
  },
  "language_info": {
   "codemirror_mode": {
    "name": "ipython",
    "version": 3
   },
   "file_extension": ".py",
   "mimetype": "text/x-python",
   "name": "python",
   "nbconvert_exporter": "python",
   "pygments_lexer": "ipython3",
   "version": "3.11.0"
  },
  "orig_nbformat": 4,
  "vscode": {
   "interpreter": {
    "hash": "c261aea317cc0286b3b3261fbba9abdec21eaa57589985bb7a274bf54d6cc0a7"
   }
  }
 },
 "nbformat": 4,
 "nbformat_minor": 2
}
