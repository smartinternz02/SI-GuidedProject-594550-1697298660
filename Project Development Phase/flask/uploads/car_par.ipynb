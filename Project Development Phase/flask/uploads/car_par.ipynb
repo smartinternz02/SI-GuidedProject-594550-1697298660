{
 "cells": [
  {
   "cell_type": "code",
   "execution_count": 2,
   "metadata": {},
   "outputs": [],
   "source": [
    "import cv2\n",
    "import pickle\n",
    "import cvzone\n",
    "import numpy as np\n"
   ]
  },
  {
   "cell_type": "code",
   "execution_count": 3,
   "metadata": {},
   "outputs": [
    {
     "name": "stdout",
     "output_type": "stream",
     "text": [
      "parkingSlotPosition file loaded. \n"
     ]
    }
   ],
   "source": [
    "width , height = 107,48\n",
    "\n",
    "try:\n",
    "    with open('parkingSlotPosition', 'rb') as f:\n",
    "        posList = pickle.load(f)\n",
    "        print(\"parkingSlotPosition file loaded. \")\n",
    "except:\n",
    "    print(\"failed to load. \")\n",
    "    posList = []\n",
    "    \n",
    "    "
   ]
  },
  {
   "cell_type": "code",
   "execution_count": 4,
   "metadata": {},
   "outputs": [],
   "source": [
    "cap = cv2.VideoCapture('C:/Users/sonudr/.vscode/wrokspacerrr/Data/carParkingInput.mp4')\n",
    "\n",
    "\n",
    "while True:\n",
    "    if cap.get(cv2.CAP_PROP_POS_FRAMES)==cap.get(cv2.CAP_PROP_FRAME_COUNT):\n",
    "        cap.set(cv2.CAP_PROP_POS_FRAMES, 0)\n",
    "\n",
    "    ret, frame =cap.read()\n",
    "\n",
    "\n",
    "    if not ret:\n",
    "        break\n",
    "\n",
    "\n",
    "    grey = cv2.cvtColor(frame, cv2.COLOR_BGR2GRAY)\n",
    "\n",
    "\n",
    "    blurred = cv2.GaussianBlur(grey, (3,3), 0)\n",
    "\n",
    "\n",
    "    threshold = cv2.adaptiveThreshold(blurred, 255, cv2.ADAPTIVE_THRESH_GAUSSIAN_C, cv2.THRESH_BINARY_INV, 25, 16)\n",
    "\n",
    "\n",
    "    median = cv2.medianBlur(threshold, 5)\n",
    "\n",
    "\n",
    "    kernel = np.ones((3,3), np.uint8)\n",
    "    dilated = cv2.dilate(median, kernel,iterations=1)\n",
    "\n",
    "    imgOverlay = frame.copy()\n",
    "\n",
    "\n",
    "    freeSlots =[]\n",
    "    freeSlotPosition = []\n",
    "\n",
    "\n",
    "    for i, pos in enumerate(posList):\n",
    "        x, y = pos\n",
    "        imgCrop = dilated[y:y + height, x:x +width ]\n",
    "        count= cv2.countNonZero(imgCrop)\n",
    "        if count < 900:\n",
    "            color = (0,255, 0)\n",
    "            thickness = 2\n",
    "            freeSlots.append(i +1)\n",
    "            freeSlotPosition.append(pos)\n",
    "        else:\n",
    "            color = (0,0, 255)\n",
    "            thickness = 2\n",
    "        cv2.rectangle(imgOverlay, pos,(pos[0]+ width,pos[1] + height),color,thickness)\n",
    "        cv2.putText (imgOverlay, str(i+1),(x, y - 10), cv2.FONT_HERSHEY_SIMPLEX, 0.7, (255,255,255), thickness,cv2.LINE_AA)\n",
    "\n",
    "    cv2.putText(imgOverlay, f'Free:{len(freeSlots)}/ {len(posList)}',(100,50), cv2.FONT_HERSHEY_SIMPLEX,1,(0,255,0),2, cv2.LINE_AA)\n",
    "\n",
    "    for slot, pos in zip(freeSlots, freeSlotPosition):\n",
    "        cv2.putText(imgOverlay, f'Slot{slot}',(pos[0],pos[1]- 10),cv2.FONT_HERSHEY_SIMPLEX,0.7,(0,255,0),thickness,cv2.LINE_AA)\n",
    "\n",
    "    imgOutput = cv2.addWeighted(frame,0.7,imgOverlay,0.3,0)\n",
    "\n",
    "\n",
    "    cv2.imshow(\"Car Parking Input\", imgOutput)\n",
    "\n",
    "    if cv2.waitKey(1) == ord('q'):\n",
    "        break\n",
    "\n",
    "cap.release()\n",
    "cv2.destroyAllWindows()\n"
   ]
  },
  {
   "cell_type": "code",
   "execution_count": null,
   "metadata": {},
   "outputs": [],
   "source": []
  }
 ],
 "metadata": {
  "kernelspec": {
   "display_name": "Python 3.11.0 64-bit",
   "language": "python",
   "name": "python3"
  },
  "language_info": {
   "codemirror_mode": {
    "name": "ipython",
    "version": 3
   },
   "file_extension": ".py",
   "mimetype": "text/x-python",
   "name": "python",
   "nbconvert_exporter": "python",
   "pygments_lexer": "ipython3",
   "version": "3.11.0"
  },
  "orig_nbformat": 4,
  "vscode": {
   "interpreter": {
    "hash": "c261aea317cc0286b3b3261fbba9abdec21eaa57589985bb7a274bf54d6cc0a7"
   }
  }
 },
 "nbformat": 4,
 "nbformat_minor": 2
}
